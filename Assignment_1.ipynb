{
  "nbformat": 4,
  "nbformat_minor": 0,
  "metadata": {
    "colab": {
      "provenance": [],
      "authorship_tag": "ABX9TyMu+hNXh/LLA2pTcfpvG/vH",
      "include_colab_link": true
    },
    "kernelspec": {
      "name": "python3",
      "display_name": "Python 3"
    },
    "language_info": {
      "name": "python"
    }
  },
  "cells": [
    {
      "cell_type": "markdown",
      "metadata": {
        "id": "view-in-github",
        "colab_type": "text"
      },
      "source": [
        "<a href=\"https://colab.research.google.com/github/FranklineMisango/ENGG1330_Assignments-Tutorials/blob/main/Assignment_1.ipynb\" target=\"_parent\"><img src=\"https://colab.research.google.com/assets/colab-badge.svg\" alt=\"Open In Colab\"/></a>"
      ]
    },
    {
      "cell_type": "markdown",
      "source": [
        "Q1: Triangles\n",
        "Weight: 5%\n",
        "\n",
        "Last update: 22 Sep\n",
        "\n",
        "In geometry, \n",
        "\n",
        "an isosceles triangle is a triangle that has two sides of equal length,\n",
        "\n",
        "an equilateral triangle is a triangle in which all three sides have the same length, and\n",
        "\n",
        "a scalene triangle has all its sides of different lengths.\n",
        "\n",
        "Given three side lengths of a triangle as user input, output isosceles, equilateral or scalene.  You may assume that all the inputs are positive integers.\n",
        "\n",
        "1 2 3\n",
        "scalene\n",
        "\n",
        "1 3 2\n",
        "scalene\n",
        "\n",
        "3 3 1\n",
        "isosceles\n",
        "\n",
        "1 1 1\n",
        "equilateral"
      ],
      "metadata": {
        "id": "zxfI14eg7nZ_"
      }
    },
    {
      "cell_type": "code",
      "execution_count": 1,
      "metadata": {
        "colab": {
          "base_uri": "https://localhost:8080/"
        },
        "id": "ywIzLkrR7JLD",
        "outputId": "2c9a17c9-f31f-488b-af43-f381e245aba5"
      },
      "outputs": [
        {
          "name": "stdout",
          "output_type": "stream",
          "text": [
            "2\n"
          ]
        }
      ],
      "source": [
        "tri = input().split() #split the input \n",
        "if len(tri) == 3 :    #the triangle should have three sides\n",
        "    if tri[0] == tri [1] == tri[2]: #Loop for equal sides\n",
        "        print(\"equilateral\")\n",
        "    elif tri[0] != tri[1] != tri[2]: #loop if neither side is equal\n",
        "        print(\"scalene\")\n",
        "    elif tri[0] == tri [1] != tri [2]: #loop for isoceles for side a and b\n",
        "        print(\"isosceles\")\n",
        "    elif tri[0] != tri [1] == tri [2]: #loop for isoceles for side b and c\n",
        "        print(\"isosceles\")\n",
        "    elif tri[0] == tri[2] != tri[1]: #loop for isoceles for side a and c\n",
        "        print(\"isosceles\")"
      ]
    },
    {
      "cell_type": "markdown",
      "source": [
        "Q2: Four Integers\n",
        "\n",
        "Weight: 10%\n",
        "\n",
        "Last update: 22 Sep\n",
        "\n",
        "Write a python script that\n",
        "\n",
        "Inputs 4 non-negative integers from the user \n",
        "\n",
        "Reverses the integers\n",
        "\n",
        "Outputs the smallest and largest of the reversed integers"
      ],
      "metadata": {
        "id": "zKYPleeG9nUZ"
      }
    },
    {
      "cell_type": "code",
      "source": [
        "rev_num = 0 #This will hold the reverse of the number\n",
        "#I opted to use a central reverse function to reverse all the inputs at once\n",
        "def reverse_num(num):\n",
        "    if (num > 0):\n",
        "        global rev_num #To be used outside the function as defined above this function as well\n",
        "        reminder = num % 10\n",
        "        rev_num = (rev_num *10 ) + reminder\n",
        "        reverse_num(num // 10)\n",
        "    return rev_num\n",
        "\n",
        "rev_num_1 = 0 #This will hold the reverse of the number\n",
        "#I opted to use a central reverse function to reverse all the inputs at once\n",
        "def reverse_num_1(num):\n",
        "    if (num > 0):\n",
        "        global rev_num_1 #To be used outside the function as defined above this function as well\n",
        "        reminder = num % 10\n",
        "        rev_num_1 = (rev_num_1 *10 ) + reminder\n",
        "        reverse_num_1(num // 10)\n",
        "    return rev_num_1\n",
        "\n",
        "rev_num_2 = 0 #This will hold the reverse of the number\n",
        "#I opted to use a central reverse function to reverse all the inputs at once\n",
        "def reverse_num_2(num):\n",
        "    if (num > 0):\n",
        "        global rev_num_2 #To be used outside the function as defined above this function as well\n",
        "        reminder = num % 10\n",
        "        rev_num_2 = (rev_num_2 *10 ) + reminder\n",
        "        reverse_num_2(num // 10)\n",
        "    return rev_num_2\n",
        "\n",
        "rev_num_3 = 0 #This will hold the reverse of the number\n",
        "#I opted to use a central reverse function to reverse all the inputs at once\n",
        "def reverse_num_3(num):\n",
        "    if (num > 0):\n",
        "        global rev_num_3 #To be used outside the function as defined above this function as well\n",
        "        reminder = num % 10\n",
        "        rev_num_3 = (rev_num_3 *10 ) + reminder\n",
        "        reverse_num_3(num // 10)\n",
        "    return rev_num_3\n",
        "\n",
        "#The Inputs\n",
        "inp_1 = int(input())\n",
        "inp_2 = int(input())\n",
        "inp_3 = int(input())\n",
        "inp_4 = int(input())\n",
        "\n",
        "inp_1 = reverse_num(inp_1)\n",
        "inp_2 = reverse_num_1(inp_2)\n",
        "inp_3 = reverse_num_2(inp_3)\n",
        "inp_4 = reverse_num_3(inp_4)\n",
        "\n",
        "l = [inp_1, inp_2, inp_3, inp_4]\n",
        "a = min(l)\n",
        "b = max(l)\n",
        "\n",
        "print(f\"smallest: {a}\")\n",
        "print(f\"largest: {b}\")"
      ],
      "metadata": {
        "id": "juQr9vX_9sJ5"
      },
      "execution_count": null,
      "outputs": []
    },
    {
      "cell_type": "markdown",
      "source": [
        "Q3: Brute Force Search\n",
        "Weight: 15%\n",
        "\n",
        "Last update: 22 Sep\n",
        "\n",
        "Consider right triangles with\n",
        "\n",
        "sides a, b and c that are all positive integers\n",
        "\n",
        "sides where the sum of the squares of two sides equals the square of the third side, i.e.,  \n",
        "\n",
        "a^2+b^2=c^2\n",
        "a \n",
        "2\n",
        " +b \n",
        "2\n",
        " =c \n",
        "2\n",
        " \n",
        "\n",
        "Write a script that\n",
        "\n",
        "Inputs start and stop\n",
        "\n",
        "Finds and outputs all such right triangles with sides falling in the range [start, stop]\n",
        "\n",
        "Use a \"brute-force\" approach, i.e., an approach with a triple-nested for-loop that tries all possibilities. Avoid duplicates, i.e., output 3 4 5 only but not 4 3 5.\n",
        "\n",
        "Sample runs\n",
        "\n",
        "1\n",
        "\n",
        "10\n",
        "\n",
        "3 4 5\n",
        "\n",
        "6 8 10\n",
        "\n",
        "\n",
        "10\n",
        "\n",
        "50\n",
        "\n",
        "10 24 26\n",
        "\n",
        "12 16 20\n",
        "\n",
        "12 35 37\n",
        "\n",
        "14 48 50\n",
        "\n",
        "15 20 25\n",
        "\n",
        "15 36 39\n",
        "\n",
        "16 30 34\n",
        "\n",
        "18 24 30\n",
        "\n",
        "20 21 29\n",
        "\n",
        "21 28 35\n",
        "\n",
        "24 32 40\n",
        "\n",
        "27 36 45\n",
        "\n",
        "30 40 50"
      ],
      "metadata": {
        "id": "u_DttzW39vRM"
      }
    },
    {
      "cell_type": "code",
      "source": [
        "def right_triangle(a,b):\n",
        "      for i in range(a,b+1):\n",
        "            for j in range(i+1,b+1):\n",
        "                  for k in range(j+1,b+1):\n",
        "                        if (k*k==i*i+j*j):\n",
        "                              print(i,j,k)\n",
        "\n",
        "\n",
        "start = int(input())\n",
        "stop  = int(input())\n",
        "\n",
        "right_triangle(start,stop)"
      ],
      "metadata": {
        "colab": {
          "base_uri": "https://localhost:8080/"
        },
        "id": "1JMYMD-Q-WDk",
        "outputId": "29f1c156-3830-45e2-ef3d-0ec80c8c7a6a"
      },
      "execution_count": 2,
      "outputs": [
        {
          "output_type": "stream",
          "name": "stdout",
          "text": [
            "10\n",
            "20\n",
            "12 16 20\n"
          ]
        }
      ]
    },
    {
      "cell_type": "markdown",
      "source": [
        "Q4: Stairs\n",
        "Weight: 15%\n",
        "\n",
        "Last update: 22 Sep\n",
        "\n",
        "Let there be n stairs. A person standing at the bottom wants to reach the top. The person can climb either 1 stair or p stairs at a time, where p is a prime number. Count the number of ways, the person can reach the top. You program should be able to handle integers in the range 0 < n < 50.\n",
        "\n",
        "Examples:\n",
        "\n",
        "Let n = 1. The person can take 1 step to reach the top. There is only 1 way to reach the top.\n",
        "\n",
        "Let n = 2. The person can take 1 step + 1 step, or 2 steps to reach the top. There are 2 ways to reach the top. Using a different notation: For n = 2 we have (1, 1), (2), i.e., 2 ways to reach the top.\n",
        "\n",
        "For n = 3 we have (1, 1, 1), (1, 2), (2, 1), (3), i.e., 4 ways to reach the top. \n",
        "\n",
        "For n = 6 we have (1, 1, 1, 1, 1, 1), (1, 1, 1, 1, 2), (1, 1, 1, 2, 1), (1, 1, 1, 3), (1, 1, 2, 1, 1), (1, 1, 2, 2), \n",
        "(1, 1, 3, 1), (1, 2, 1, 1, 1), (1, 2, 1, 2), (1, 2, 2, 1), (1, 2, 3), (1, 3, 1, 1), (1, 3, 2), (1, 5), (2, 1, 1, 1, 1), \n",
        "(2, 1, 1, 2), (2, 1, 2, 1), (2, 1, 3), (2, 2, 1, 1), (2, 2, 2), (2, 3, 1), (3, 1, 1, 1), (3, 1, 2), (3, 2, 1), (3, 3), (5, 1), i.e., 26 ways to reach the top.\n",
        "\n",
        "Hints:\n",
        "\n",
        "For n=6, steps can be 1, 2, 3, 5. Thus, for n=6, the ways to reach the top is the sum of cases when n=6-1, n=6-2, n=6-3, n=6-5. \n",
        "\n",
        "When you exceed the time limit of test cases, you may try a faster method."
      ],
      "metadata": {
        "id": "4DNSxCWU-ajo"
      }
    },
    {
      "cell_type": "code",
      "source": [
        "def isPrime(n):\n",
        "    if n <= 1:\n",
        "        return False\n",
        "    for i in range(2, n):\n",
        "        if n % i == 0:\n",
        "            return False\n",
        "    return True\n",
        "\n",
        "\n",
        "def getPrime(n):\n",
        "    result = []\n",
        "    for i in range(2, n + 1):\n",
        "        if isPrime(i):\n",
        "            result.append(i)\n",
        "    return result\n",
        "\n",
        "def numWays(n, prime_arr):\n",
        "    result = [0] * (n + 1)  # initially declaring an array of size n+1\n",
        "    result[0] = 1  # initializing the value for 0, 1 and 2\n",
        "    result[1] = 1\n",
        "    result[2] = 2\n",
        "    # iterating in the range 3 to n+1\n",
        "    for i in range(3, n + 1):\n",
        "        result[i] = result[i-1]  # initializing the result to i to result of i-1\n",
        "        for prime in prime_arr:\n",
        "            result[i] += result[i - prime]\n",
        "    return result[n]\n",
        "\n",
        "\n",
        "if __name__ == '__main__':\n",
        "    n = int(input())\n",
        "    # get all prime numbers till the input number n so as to decided the step size\n",
        "    prime_arr = getPrime(n)\n",
        "    print(numWays(n, prime_arr))"
      ],
      "metadata": {
        "id": "-A70xi_G-g5Y"
      },
      "execution_count": null,
      "outputs": []
    },
    {
      "cell_type": "markdown",
      "source": [
        "Q6: 2-Player Pig\n",
        "Weight: 20%\n",
        "\n",
        "Last update: 22 Sep\n",
        "\n",
        "Pig is a dice game. Two players race to reach 100 points. Each turn, a player repeatedly rolls a die until either a 1 is rolled or the player holds and scores the sum of the rolls (i.e. the turn total). At any time during a player's turn, the player is faced with two decisions: \n",
        "\n",
        "roll - If the player rolls a \n",
        "\n",
        "1: the player scores nothing and it becomes the opponent's turn. \n",
        "\n",
        "2 - 6: the number is added to the player's turn total and the player's turn continues. \n",
        "\n",
        "hold - The turn total is added to the player's score and it becomes the opponent's turn. \n",
        "\n",
        "Write a python program for a two-player game of Pig. A player can enter r for roll or h for hold.\n",
        "\n",
        "Hint. You can use \\t  to create proper indentation blocks. e.g. print(\"\\tP1 rolls a ...\")"
      ],
      "metadata": {
        "id": "WcjnU5tc-lMc"
      }
    },
    {
      "cell_type": "code",
      "source": [
        "import random\n",
        "import os\n",
        "from turtle import TurtleScreen\n",
        "seed = input('Welcome to PIG. Enter a seed (int): ')\n",
        "import random\n",
        "n = random.Random()\n",
        "if seed != -1:\n",
        "    n.seed(seed)\n",
        "\n",
        "def taketurns():\n",
        "    pturn = 1\n",
        "    while True:\n",
        "        turnscore = 0\n",
        "        p1score = 0 \n",
        "        p2score = 0\n",
        "        p1roll = str(input('P1 (r/h): '))\n",
        "        if p1roll == 'r':\n",
        "            dice_1 = n.randrange(1,7) #roll dice 1\n",
        "            if dice_1 != 1:\n",
        "                print('\\tP1 rolls a ...',dice_1, '!')\n",
        "                turnscore = 1         \n",
        "            if dice_1 == 1 : \n",
        "                print('\\tP1 rolls a ...', dice_1, '!')\n",
        "                turnscore = 0\n",
        "                break\n",
        "        if p1roll == 'h':\n",
        "            turnscore ==  0\n",
        "    if turnscore == 1:\n",
        "        p1score =  p1score + dice_1\n",
        "        print(f\"--------> P1 / P2 total: {p1score} / {p2score}  <--------\")\n",
        "    else:\n",
        "        p1score = 0 \n",
        "        print(f\"--------> P1 / P2 total: {p1score} / {p2score}  <--------\")\n",
        "    while pturn == 2:\n",
        "        p2score = 0\n",
        "        p2roll = str(input('P1 (r/h): '))\n",
        "        if p2roll == 'r':\n",
        "            dice_2 = n.randrange(1,7) #roll dice 1\n",
        "            if dice_2 != 1:\n",
        "                turnscore = turnscore + dice_2\n",
        "                print('\\tP1 rolls a ...',dice_2, '!')\n",
        "            else: \n",
        "                print('\\tP1 rolls a ...', dice_2, '!')\n",
        "                turnscore = -1\n",
        "        if turnscore == -1:\n",
        "            p2score == 0\n",
        "        else:\n",
        "            p2score == p2score + turnscore\n",
        "        if turnscore == -1:\n",
        "            p2score == 0\n",
        "        else:\n",
        "            p2score == p1score + turnscore\n",
        "\n",
        "def gameturns():\n",
        "    if p1score >= 100:\n",
        "        print(f\">>> Congratulation P1 <<<\")\n",
        "    if p1score >= 100:\n",
        "        print(f\">>> Congratulation P2 <<<\")\n",
        "\n",
        "taketurns()\n",
        "\n",
        "    \n",
        "\n"
      ],
      "metadata": {
        "id": "WmUVE9gg-wUP"
      },
      "execution_count": null,
      "outputs": []
    },
    {
      "cell_type": "markdown",
      "source": [
        "Q7: 4-Player Pig\n",
        "Weight: 10%\n",
        "\n",
        "Last update: 22 Sep\n",
        "\n",
        "In this question, you will implement the same game as in Q6. However, this time you will be implementing a game with 4 instead of 2 players. "
      ],
      "metadata": {
        "id": "34kEOwfZ-xOd"
      }
    },
    {
      "cell_type": "code",
      "source": [],
      "metadata": {
        "id": "_chPkJFs-4hc"
      },
      "execution_count": null,
      "outputs": []
    },
    {
      "cell_type": "markdown",
      "source": [
        "Q8: n-Player Pig\n",
        "Weight: 25%\n",
        "\n",
        "Last update: 22 Sep\n",
        "\n",
        "In this question, you will implement the same game as in Q6. However, this time you will implement a game with n (2-6) players instead of 2 players. In addition, this time we will use a limit of 50 to win the game instead of 100 to avoid long games. \n",
        "\n",
        "Hint. You can use ' / '.join() to create a combined string separated by ' / '."
      ],
      "metadata": {
        "id": "iSVDTTtt-1QK"
      }
    },
    {
      "cell_type": "code",
      "source": [],
      "metadata": {
        "id": "fUz-Xg_N-5Bd"
      },
      "execution_count": null,
      "outputs": []
    }
  ]
}